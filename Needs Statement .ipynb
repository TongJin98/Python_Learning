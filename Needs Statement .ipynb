{
 "cells": [
  {
   "cell_type": "markdown",
   "metadata": {},
   "source": [
    "## Needs Statement \n",
    "\n",
    "A needs statement helps to ensure that your solution is focused on addressing the underlying need, rather than just the technology\n",
    "\n",
    "### General Principles\n",
    "\n",
    "1. balance between being too general and too specific \n",
    "2. \n",
    "\n",
    "#### Needs statement for \"paper\" like UI \n",
    "A way to address patient perception of "
   ]
  },
  {
   "cell_type": "code",
   "execution_count": null,
   "metadata": {},
   "outputs": [],
   "source": []
  }
 ],
 "metadata": {
  "kernelspec": {
   "display_name": "Python 3",
   "language": "python",
   "name": "python3"
  },
  "language_info": {
   "codemirror_mode": {
    "name": "ipython",
    "version": 3
   },
   "file_extension": ".py",
   "mimetype": "text/x-python",
   "name": "python",
   "nbconvert_exporter": "python",
   "pygments_lexer": "ipython3",
   "version": "3.6.4"
  }
 },
 "nbformat": 4,
 "nbformat_minor": 2
}
