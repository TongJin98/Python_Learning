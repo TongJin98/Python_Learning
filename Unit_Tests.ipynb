{
 "cells": [
  {
   "cell_type": "markdown",
   "metadata": {},
   "source": [
    "## Gerneral Rules\n",
    "\n",
    "1. A testing unit should focus on one tiny bit of functionality and prove it correct\n",
    "\n",
    "2. Each test unit must be fully independent. Each test must be able to run ablone, and also within the test suit, regardless of the order that thy are called. Each test must be loaded with a fresh dataset and may have to do some cleanup afterwards. This is usually handled by `setUp()` and `tearDown()` methods\n",
    "\n",
    "3. Make tests that run fast and keep heavier tests in a seperate test suit that is run by some scheduled teask, and run all other tests as often as needed\n",
    "\n",
    "4. Always run the full test suit before coding session, and run it again after. \n",
    "\n",
    "5. Implement a hook that runs all tests before pushing code to a shared repository.\n",
    "\n",
    "6. If development session is interrupted, write down a broken unit test about what you want to develop next. When coming back to work, you will have a pointer to where you were and get back on track faster.\n",
    "\n",
    "7. The first step when you are debugging is to write a new test pinpointing the bug. \n",
    "\n",
    "8. Use long and descriptive names for testing functions. However, Sshort names are always preferred for when running code. \n",
    "\n",
    "9. The testing code wil be read as much as or even more than the running ocde. A unit test whose purpose is unclear is not very helpful in this case. \n",
    "\n",
    "10. Another use of the testing code is as an introduction to new developers. \n"
   ]
  },
  {
   "cell_type": "markdown",
   "metadata": {},
   "source": [
    "## The Basics\n",
    "\n",
    "### unittest\n",
    "\n",
    "`unittest` is the batteries-inlcuded test module in the python standard library. \n",
    "\n",
    "Creating test cases is accomplished by subclassing `unittest.TestCase`"
   ]
  },
  {
   "cell_type": "code",
   "execution_count": 1,
   "metadata": {},
   "outputs": [],
   "source": [
    "import unittest\n",
    "\n",
    "def fun(x):\n",
    "    return x+1\n",
    "\n",
    "class MyTest(unittest.TestCase):\n",
    "    def test(self):\n",
    "        self.assetEqual(fun(3),4)"
   ]
  },
  {
   "cell_type": "code",
   "execution_count": null,
   "metadata": {},
   "outputs": [],
   "source": []
  }
 ],
 "metadata": {
  "kernelspec": {
   "display_name": "Python 3",
   "language": "python",
   "name": "python3"
  },
  "language_info": {
   "codemirror_mode": {
    "name": "ipython",
    "version": 3
   },
   "file_extension": ".py",
   "mimetype": "text/x-python",
   "name": "python",
   "nbconvert_exporter": "python",
   "pygments_lexer": "ipython3",
   "version": "3.6.4"
  }
 },
 "nbformat": 4,
 "nbformat_minor": 2
}
